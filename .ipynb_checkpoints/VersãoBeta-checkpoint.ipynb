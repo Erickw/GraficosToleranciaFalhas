{
 "cells": [
  {
   "cell_type": "code",
   "execution_count": null,
   "metadata": {
    "collapsed": true
   },
   "outputs": [],
   "source": [
    "# IMPORTS\n",
    "\n",
    "import math\n",
    "import matplotlib.pyplot as plt\n",
    "import pandas as pd\n",
    "import seaborn as sns\n",
    "from scipy import linspace\n",
    "import scipy.integrate as integrate"
   ]
  },
  {
   "cell_type": "code",
   "execution_count": null,
   "metadata": {
    "collapsed": true
   },
   "outputs": [],
   "source": [
    "# FUNÇÕES\n",
    "\n",
    "\n",
    "#Calculando a distribuição exponencial: #r(t) + f(t) = 1     r(t) = 1 - F(t)   f(t) = 1 - e^-lambd*t\n",
    "\n",
    "def DistExpo(lamb, t):\n",
    "    \n",
    "    SegundoTermo = 1 - math.e**(-lamb*t)\n",
    "    PrimeiroTermo = 1 - SegundoTermo()\n",
    "    DistExpoR = PrimeiroTermo + SegundoTermo    \n",
    "    \n",
    "    return DistExpoR\n",
    "\n",
    "#Calculando a distribuição Hypoexponencial - PDF: \n",
    "\n",
    "def DistHypoPDF(lamb1 , lamb2, t):\n",
    "    \n",
    "    Numerador = lamb1*lamb2\n",
    "    Denominador = lamb2 - lamb1\n",
    "    PrimeiroTermo = Numerador/Denominador\n",
    "    SegundoTermo = math.e**(-lamb1*t) - math.e**(-lamb2*t)\n",
    "    DistHypoPDFR = PrimeiroTermo*SegundoTermo\n",
    "    \n",
    "    return DistHypoPDFR\n",
    "    \n",
    "#Calculando a distribuição Hypoexponencial - CDF:    \n",
    "    \n",
    "def DistHypoCDF(lamb1 , lamb2, t):\n",
    "    \n",
    "    PrimeiroTermo = 1 - (lamb2/(lamb2-lamb1))*math.e**(-lamb1*t)\n",
    "    SegundoTermo = lamb1/(lamb2-lamb1)*math.e**(-lamb2*t)\n",
    "    DistHypoCDFR = PrimeiroTermo*SegundoTermo\n",
    "    \n",
    "    return DistHt\n",
    "\n",
    "#Calculando a distribuição Hypoexponencial - MTTF:\\n\",\n",
    "\n",
    "def MTTF(lamb1, lamb2) :\n",
    "    \n",
    "    Numerador = lamb2 + lamb1\n",
    "    Denominador = lamb1 * lamb2\n",
    "    M = Numerador/Denominador\n",
    "    return M\n",
    "       \n",
    "    \n",
    "#Plotando graficos HypoPDF\n",
    "\n",
    "\n",
    "def PlotHypoPDF(lamb1, lamb2, space):\n",
    "    \n",
    "    for i in space:\n",
    "        resultado = DistHypoPDF(lamb1 , lamb2, i)\n",
    "        plt.bar(i, resultado)\n",
    "plt.show()"
   ]
  },
  {
   "cell_type": "code",
   "execution_count": null,
   "metadata": {
    "collapsed": true
   },
   "outputs": [],
   "source": [
    "space = linspace(0,5,6)\n",
    "\n",
    "PlotHypoPDF(10, 50, space)\n",
    "\n",
    "print (space)"
   ]
  }
 ],
 "metadata": {
  "kernelspec": {
   "display_name": "Python 3",
   "language": "python",
   "name": "python3"
  },
  "language_info": {
   "codemirror_mode": {
    "name": "ipython",
    "version": 3
   },
   "file_extension": ".py",
   "mimetype": "text/x-python",
   "name": "python",
   "nbconvert_exporter": "python",
   "pygments_lexer": "ipython3",
   "version": "3.6.1"
  }
 },
 "nbformat": 4,
 "nbformat_minor": 2
}
