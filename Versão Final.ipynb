{
 "cells": [
  {
   "cell_type": "markdown",
   "metadata": {},
   "source": [
    "## Imports"
   ]
  },
  {
   "cell_type": "code",
   "execution_count": 45,
   "metadata": {
    "collapsed": true
   },
   "outputs": [],
   "source": [
    "import math\n",
    "import matplotlib.pyplot as plt\n",
    "import pandas as pd\n",
    "import seaborn as sns\n",
    "import numpy as np\n",
    "from scipy import linspace\n",
    "import scipy.integrate as integrate"
   ]
  },
  {
   "cell_type": "markdown",
   "metadata": {},
   "source": [
    "## Funções"
   ]
  },
  {
   "cell_type": "code",
   "execution_count": 46,
   "metadata": {},
   "outputs": [],
   "source": [
    "#Calculando a distribuição Hypoexponencial - CDF  \n",
    "    \n",
    "def DistHypoCDF(lamb1 , lamb2, t):\n",
    "    \n",
    "    PrimeiroTermo = 1 - (lamb2/(lamb2-lamb1))*math.e**(-lamb1*t)\n",
    "    SegundoTermo = lamb1/(lamb2-lamb1)*math.e**(-lamb2*t)\n",
    "    DistHypoCDFR = PrimeiroTermo*SegundoTermo\n",
    "    \n",
    "    return DistHypoCDFR\n",
    "\n",
    "#Calculando a distribuição Hypoexponencial - MTTF\"\n",
    "\n",
    "def MTTF(sistema) :\n",
    "    \n",
    "    M = np.mean(sistema)\n",
    "    return M      \n",
    "    \n",
    "\n",
    "#Calculando a Redundância TMR/5MR\n",
    "\n",
    "def MR(lamb, taxaFalha1, taxaFalha2 , disp, space):\n",
    "    \n",
    "    r = 1 - ((1 - R(taxaFalha1 * lamb, taxaFalha2 * lamb,space)) ** disp)\n",
    "    return r\n",
    "\n",
    "# Calculando a função F(t) da distribuição Hypoexponencial \n",
    "\n",
    "def F(lamb2,lamb1,t):\n",
    "    \n",
    "    f = 1 - ((lamb2/(lamb2-lamb1)) * (math.e ** (-lamb1 * t))) + ((lamb1/(lamb2 - lamb1)) * (math.e ** (-lamb2 * t)))\n",
    "    \n",
    "    return f\n",
    "\n",
    "#Calculando a função R(t) da distribuição Hypoexponencial \n",
    "    \n",
    "def R(lamb2 , lamb1,t):\n",
    "    \n",
    "    r = 1 - F(lamb2,lamb1,t)\n",
    "    \n",
    "    return r\n",
    "\n",
    "# Plotando os gráficos a partir das informações desejadas\n",
    "\n",
    "def plot(lamb, taxaFalha1, taxaFalha2, MR):\n",
    "    \n",
    "    space = linspace(0,1.5)\n",
    "\n",
    "    sistema_2_dispositivos = MR(lamb, taxaFalha1, taxaFalha2, 2, space)\n",
    "    sistema_3_dispositivos = MR(lamb, taxaFalha1, taxaFalha2, 3, space)\n",
    "    sistema_4_dispositivos = MR(lamb, taxaFalha1, taxaFalha2, 4, space)\n",
    "    \n",
    "    \n",
    "    titulo = MR + r'$\\lambda = $' + str(lamb)    \n",
    "    plt.title(titulo)\n",
    "    \n",
    "    plt.plot(space, sistema_2_dispositivos, label = '2 dispositivos')\n",
    "    plt.plot(space, sistema_3_dispositivos, label = '3 dispositivos')\n",
    "    plt.plot(space, sistema_4_dispositivos, label = '4 dispositivos')\n",
    "    \n",
    "    plt.ylabel('Reliability(t)')\n",
    "    plt.xlabel('Time(t)')\n",
    "    plt.legend(loc='upper right')\n",
    "    \n",
    "    plt.axvline(MTTF(sistema_2_dispositivos), c = 'blue')\n",
    "    plt.axvline(MTTF(sistema_3_dispositivos), c =  'orange')\n",
    "    plt.axvline(MTTF(sistema_4_dispositivos), c =  'green')\n",
    "    \n",
    "    plt.show()\n",
    "    "
   ]
  },
  {
   "cell_type": "markdown",
   "metadata": {},
   "source": [
    "##  TMR com 2, 3 e 4 dispositivos para λ = 1, λ = 3, λ = 5, λ = 7"
   ]
  },
  {
   "cell_type": "code",
   "execution_count": 47,
   "metadata": {},
   "outputs": [
    {
     "ename": "TypeError",
     "evalue": "'str' object is not callable",
     "output_type": "error",
     "traceback": [
      "\u001b[0;31m---------------------------------------------------------------------------\u001b[0m",
      "\u001b[0;31mTypeError\u001b[0m                                 Traceback (most recent call last)",
      "\u001b[0;32m<ipython-input-47-7f12f5855005>\u001b[0m in \u001b[0;36m<module>\u001b[0;34m()\u001b[0m\n\u001b[0;32m----> 1\u001b[0;31m \u001b[0mplot\u001b[0m\u001b[0;34m(\u001b[0m\u001b[0;36m1\u001b[0m\u001b[0;34m,\u001b[0m\u001b[0;36m3\u001b[0m\u001b[0;34m,\u001b[0m\u001b[0;36m2\u001b[0m\u001b[0;34m,\u001b[0m \u001b[0;34m\"TMR\"\u001b[0m\u001b[0;34m)\u001b[0m\u001b[0;34m\u001b[0m\u001b[0m\n\u001b[0m\u001b[1;32m      2\u001b[0m \u001b[0;34m\u001b[0m\u001b[0m\n\u001b[1;32m      3\u001b[0m \u001b[0mplot\u001b[0m\u001b[0;34m(\u001b[0m\u001b[0;36m3\u001b[0m\u001b[0;34m,\u001b[0m\u001b[0;36m3\u001b[0m\u001b[0;34m,\u001b[0m\u001b[0;36m2\u001b[0m\u001b[0;34m,\u001b[0m \u001b[0;34m\"TMR\"\u001b[0m\u001b[0;34m)\u001b[0m\u001b[0;34m\u001b[0m\u001b[0m\n\u001b[1;32m      4\u001b[0m \u001b[0;34m\u001b[0m\u001b[0m\n\u001b[1;32m      5\u001b[0m \u001b[0mplot\u001b[0m\u001b[0;34m(\u001b[0m\u001b[0;36m5\u001b[0m\u001b[0;34m,\u001b[0m\u001b[0;36m3\u001b[0m\u001b[0;34m,\u001b[0m\u001b[0;36m2\u001b[0m\u001b[0;34m,\u001b[0m \u001b[0;34m\"TMR\"\u001b[0m\u001b[0;34m)\u001b[0m\u001b[0;34m\u001b[0m\u001b[0m\n",
      "\u001b[0;32m<ipython-input-46-b600778e9357>\u001b[0m in \u001b[0;36mplot\u001b[0;34m(lamb, taxaFalha1, taxaFalha2, MR)\u001b[0m\n\u001b[1;32m     46\u001b[0m     \u001b[0mspace\u001b[0m \u001b[0;34m=\u001b[0m \u001b[0mlinspace\u001b[0m\u001b[0;34m(\u001b[0m\u001b[0;36m0\u001b[0m\u001b[0;34m,\u001b[0m\u001b[0;36m1.5\u001b[0m\u001b[0;34m)\u001b[0m\u001b[0;34m\u001b[0m\u001b[0m\n\u001b[1;32m     47\u001b[0m \u001b[0;34m\u001b[0m\u001b[0m\n\u001b[0;32m---> 48\u001b[0;31m     \u001b[0msistema_2_dispositivos\u001b[0m \u001b[0;34m=\u001b[0m \u001b[0mMR\u001b[0m\u001b[0;34m(\u001b[0m\u001b[0mlamb\u001b[0m\u001b[0;34m,\u001b[0m \u001b[0mtaxaFalha1\u001b[0m\u001b[0;34m,\u001b[0m \u001b[0mtaxaFalha2\u001b[0m\u001b[0;34m,\u001b[0m \u001b[0;36m2\u001b[0m\u001b[0;34m,\u001b[0m \u001b[0mspace\u001b[0m\u001b[0;34m)\u001b[0m\u001b[0;34m\u001b[0m\u001b[0m\n\u001b[0m\u001b[1;32m     49\u001b[0m     \u001b[0msistema_3_dispositivos\u001b[0m \u001b[0;34m=\u001b[0m \u001b[0mMR\u001b[0m\u001b[0;34m(\u001b[0m\u001b[0mlamb\u001b[0m\u001b[0;34m,\u001b[0m \u001b[0mtaxaFalha1\u001b[0m\u001b[0;34m,\u001b[0m \u001b[0mtaxaFalha2\u001b[0m\u001b[0;34m,\u001b[0m \u001b[0;36m3\u001b[0m\u001b[0;34m,\u001b[0m \u001b[0mspace\u001b[0m\u001b[0;34m)\u001b[0m\u001b[0;34m\u001b[0m\u001b[0m\n\u001b[1;32m     50\u001b[0m     \u001b[0msistema_4_dispositivos\u001b[0m \u001b[0;34m=\u001b[0m \u001b[0mMR\u001b[0m\u001b[0;34m(\u001b[0m\u001b[0mlamb\u001b[0m\u001b[0;34m,\u001b[0m \u001b[0mtaxaFalha1\u001b[0m\u001b[0;34m,\u001b[0m \u001b[0mtaxaFalha2\u001b[0m\u001b[0;34m,\u001b[0m \u001b[0;36m4\u001b[0m\u001b[0;34m,\u001b[0m \u001b[0mspace\u001b[0m\u001b[0;34m)\u001b[0m\u001b[0;34m\u001b[0m\u001b[0m\n",
      "\u001b[0;31mTypeError\u001b[0m: 'str' object is not callable"
     ]
    }
   ],
   "source": [
    "plot(1,3,2, \"TMR\")\n",
    "\n",
    "plot(3,3,2, \"TMR\")\n",
    "\n",
    "plot(5,3,2, \"TMR\")\n",
    "\n",
    "plot(7,3,2, \"TMR\")"
   ]
  },
  {
   "cell_type": "markdown",
   "metadata": {},
   "source": [
    "## 5MR com 2, 3 e 4 dispositivos para λ = 1, λ = 3, λ = 5, λ = 7"
   ]
  },
  {
   "cell_type": "code",
   "execution_count": null,
   "metadata": {},
   "outputs": [],
   "source": [
    "plot(1,5,4, \"5MR/4\")\n",
    "\n",
    "plot(3,5,4, \"5MR/4\")\n",
    "\n",
    "plot(5,5,4, \"5MR/4\")\n",
    "\n",
    "plot(7,5,4, \"5MR/4\")"
   ]
  },
  {
   "cell_type": "markdown",
   "metadata": {},
   "source": [
    "## 5MR com 2, 3 e 4 dispositivos para λ = 1, λ = 3, λ = 5, λ = 7 e 3 componentes residuais"
   ]
  },
  {
   "cell_type": "code",
   "execution_count": null,
   "metadata": {},
   "outputs": [],
   "source": [
    "plot(1,5,3, \"5MR/3\")\n",
    "\n",
    "plot(3,5,3, \"5MR/3\")\n",
    "\n",
    "plot(5,5,3, \"5MR/3\")\n",
    "\n",
    "plot(7,5,3, \"5MR/3\")"
   ]
  },
  {
   "cell_type": "markdown",
   "metadata": {},
   "source": [
    "## 5MR com 2, 3 e 4 dispositivos para λ = 1, λ = 3, λ = 5, λ = 7 e 2 componentes residuais"
   ]
  },
  {
   "cell_type": "code",
   "execution_count": null,
   "metadata": {
    "scrolled": true
   },
   "outputs": [],
   "source": [
    "plot(1,5,2, \"5MR/2\")\n",
    "\n",
    "plot(3,5,2, \"5MR/2\")\n",
    "\n",
    "plot(5,5,2, \"5MR/2\")\n",
    "\n",
    "plot(7,5,2, \"5MR/2\")"
   ]
  },
  {
   "cell_type": "markdown",
   "metadata": {},
   "source": [
    "## 5MR com 2, 3 e 4 dispositivos para λ = 1, λ = 3, λ = 5, λ = 7 e 1 componente residual"
   ]
  },
  {
   "cell_type": "code",
   "execution_count": null,
   "metadata": {},
   "outputs": [],
   "source": [
    "plot(1,5,1, \"5MR/1\")\n",
    "\n",
    "plot(3,5,1, \"5MR/1\")\n",
    "\n",
    "plot(5,5,1, \"5MR/1\")\n",
    "\n",
    "plot(7,5,1, \"5MR/1\")"
   ]
  },
  {
   "cell_type": "code",
   "execution_count": null,
   "metadata": {
    "collapsed": true
   },
   "outputs": [],
   "source": []
  }
 ],
 "metadata": {
  "kernelspec": {
   "display_name": "Python 3",
   "language": "python",
   "name": "python3"
  },
  "language_info": {
   "codemirror_mode": {
    "name": "ipython",
    "version": 3
   },
   "file_extension": ".py",
   "mimetype": "text/x-python",
   "name": "python",
   "nbconvert_exporter": "python",
   "pygments_lexer": "ipython3",
   "version": "3.6.2"
  }
 },
 "nbformat": 4,
 "nbformat_minor": 2
}
