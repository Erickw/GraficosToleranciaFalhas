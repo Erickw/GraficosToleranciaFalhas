{
 "cells": [
  {
   "cell_type": "code",
   "execution_count": null,
   "metadata": {
    "collapsed": true
   },
   "outputs": [],
   "source": [
    "# IMPORTS\n",
    "\n",
    "import math\n",
    "import matplotlib.pyplot as plt\n",
    "import pandas as pd\n",
    "import seaborn as sns\n",
    "from scipy import linspace\n",
    "import scipy.integrate as integrate"
   ]
  },
  {
   "cell_type": "code",
   "execution_count": 1,
   "metadata": {},
   "outputs": [
    {
     "ename": "NameError",
     "evalue": "name 'plt' is not defined",
     "output_type": "error",
     "traceback": [
      "\u001b[0;31m---------------------------------------------------------------------------\u001b[0m",
      "\u001b[0;31mNameError\u001b[0m                                 Traceback (most recent call last)",
      "\u001b[0;32m<ipython-input-1-f22314299eff>\u001b[0m in \u001b[0;36m<module>\u001b[0;34m()\u001b[0m\n\u001b[1;32m     52\u001b[0m         \u001b[0mresultado\u001b[0m \u001b[0;34m=\u001b[0m \u001b[0mDistHypoPDF\u001b[0m\u001b[0;34m(\u001b[0m\u001b[0mlamb1\u001b[0m \u001b[0;34m,\u001b[0m \u001b[0mlamb2\u001b[0m\u001b[0;34m,\u001b[0m \u001b[0mi\u001b[0m\u001b[0;34m)\u001b[0m\u001b[0;34m\u001b[0m\u001b[0m\n\u001b[1;32m     53\u001b[0m         \u001b[0mplt\u001b[0m\u001b[0;34m.\u001b[0m\u001b[0mbar\u001b[0m\u001b[0;34m(\u001b[0m\u001b[0mi\u001b[0m\u001b[0;34m,\u001b[0m \u001b[0mresultado\u001b[0m\u001b[0;34m)\u001b[0m\u001b[0;34m\u001b[0m\u001b[0m\n\u001b[0;32m---> 54\u001b[0;31m \u001b[0mplt\u001b[0m\u001b[0;34m.\u001b[0m\u001b[0mshow\u001b[0m\u001b[0;34m(\u001b[0m\u001b[0;34m)\u001b[0m\u001b[0;34m\u001b[0m\u001b[0m\n\u001b[0m\u001b[1;32m     55\u001b[0m \u001b[0;34m\u001b[0m\u001b[0m\n\u001b[1;32m     56\u001b[0m \u001b[0;34m\u001b[0m\u001b[0m\n",
      "\u001b[0;31mNameError\u001b[0m: name 'plt' is not defined"
     ]
    }
   ],
   "source": [
    "# FUNÇÕES\n",
    "\n",
    "\n",
    "#Calculando a distribuição exponencial: #r(t) + f(t) = 1     r(t) = 1 - F(t)   f(t) = 1 - e^-lambd*t\n",
    "\n",
    "def DistExpo(lamb, t):\n",
    "    \n",
    "    SegundoTermo = 1 - math.e**(-lamb*t)\n",
    "    PrimeiroTermo = 1 - SegundoTermo()\n",
    "    DistExpoR = PrimeiroTermo + SegundoTermo    \n",
    "    \n",
    "    return DistExpoR\n",
    "\n",
    "#Calculando a distribuição Hypoexponencial - PDF: \n",
    "\n",
    "def DistHypoPDF(lamb1 , lamb2, t):\n",
    "    \n",
    "    Numerador = lamb1*lamb2\n",
    "    Denominador = lamb2 - lamb1\n",
    "    PrimeiroTermo = Numerador/Denominador\n",
    "    SegundoTermo = math.e**(-lamb1*t) - math.e**(-lamb2*t)\n",
    "    DistHypoPDFR = PrimeiroTermo*SegundoTermo\n",
    "    \n",
    "    return DistHypoPDFR\n",
    "    \n",
    "#Calculando a distribuição Hypoexponencial - CDF:    \n",
    "    \n",
    "def DistHypoCDF(lamb1 , lamb2, t):\n",
    "    \n",
    "    PrimeiroTermo = 1 - (lamb2/(lamb2-lamb1))*math.e**(-lamb1*t)\n",
    "    SegundoTermo = lamb1/(lamb2-lamb1)*math.e**(-lamb2*t)\n",
    "    DistHypoCDFR = PrimeiroTermo*SegundoTermo\n",
    "    \n",
    "    return DistHt\n",
    "\n",
    "#Calculando a distribuição Hypoexponencial - MTTF:\\n\",\n",
    "\n",
    "def MTTF(lamb1, lamb2) :\n",
    "    \n",
    "    Numerador = lamb2 + lamb1\n",
    "    Denominador = lamb1 * lamb2\n",
    "    M = Numerador/Denominador\n",
    "    return M\n",
    "       \n",
    "    \n",
    "#Plotando graficos HypoPDF\n",
    "\n",
    "\n",
    "def PlotHypoPDF(lamb1, lamb2, space):\n",
    "    \n",
    "    for i in space:\n",
    "        resultado = DistHypoPDF(lamb1 , lamb2, i)\n",
    "        plt.bar(i, resultado)\n",
    "plt.show()\n",
    "\n",
    "\n",
    "#Calculando a Redundância TMR:\n",
    "def tmr(lamb2, lamb1, lamb , t):\n",
    "    p1 = (lamb2 * lamb / ((lamb *lamb2) - (lamb *lamb1))) * (math.e ** (-(lamb *lamb1) * t))\n",
    "    p2 = (lamb1 * lamb / ((lamb *lamb2) - (lamb *lamb1))) * (math.e ** (-(lamb *lamb2) * t))\n",
    "    r = p1 - p2\n",
    "    \n",
    "    return r"
   ]
  },
  {
   "cell_type": "code",
   "execution_count": 2,
   "metadata": {},
   "outputs": [
    {
     "ename": "NameError",
     "evalue": "name 'linspace' is not defined",
     "output_type": "error",
     "traceback": [
      "\u001b[0;31m---------------------------------------------------------------------------\u001b[0m",
      "\u001b[0;31mNameError\u001b[0m                                 Traceback (most recent call last)",
      "\u001b[0;32m<ipython-input-2-9e2730ada8ac>\u001b[0m in \u001b[0;36m<module>\u001b[0;34m()\u001b[0m\n\u001b[0;32m----> 1\u001b[0;31m \u001b[0mspace\u001b[0m \u001b[0;34m=\u001b[0m \u001b[0mlinspace\u001b[0m\u001b[0;34m(\u001b[0m\u001b[0;36m0\u001b[0m\u001b[0;34m,\u001b[0m\u001b[0;36m5\u001b[0m\u001b[0;34m,\u001b[0m\u001b[0;36m6\u001b[0m\u001b[0;34m)\u001b[0m\u001b[0;34m\u001b[0m\u001b[0m\n\u001b[0m\u001b[1;32m      2\u001b[0m \u001b[0;34m\u001b[0m\u001b[0m\n\u001b[1;32m      3\u001b[0m \u001b[0mPlotHypoPDF\u001b[0m\u001b[0;34m(\u001b[0m\u001b[0;36m10\u001b[0m\u001b[0;34m,\u001b[0m \u001b[0;36m50\u001b[0m\u001b[0;34m,\u001b[0m \u001b[0mspace\u001b[0m\u001b[0;34m)\u001b[0m\u001b[0;34m\u001b[0m\u001b[0m\n\u001b[1;32m      4\u001b[0m \u001b[0;34m\u001b[0m\u001b[0m\n\u001b[1;32m      5\u001b[0m \u001b[0mprint\u001b[0m \u001b[0;34m(\u001b[0m\u001b[0mspace\u001b[0m\u001b[0;34m)\u001b[0m\u001b[0;34m\u001b[0m\u001b[0m\n",
      "\u001b[0;31mNameError\u001b[0m: name 'linspace' is not defined"
     ]
    }
   ],
   "source": [
    "space = linspace(0,5,6)\n",
    "\n",
    "PlotHypoPDF(10, 50, space)\n",
    "\n",
    "print (space)"
   ]
  },
  {
   "cell_type": "code",
   "execution_count": null,
   "metadata": {
    "collapsed": true
   },
   "outputs": [],
   "source": []
  }
 ],
 "metadata": {
  "kernelspec": {
   "display_name": "Python 3",
   "language": "python",
   "name": "python3"
  },
  "language_info": {
   "codemirror_mode": {
    "name": "ipython",
    "version": 3
   },
   "file_extension": ".py",
   "mimetype": "text/x-python",
   "name": "python",
   "nbconvert_exporter": "python",
   "pygments_lexer": "ipython3",
   "version": "3.6.1"
  }
 },
 "nbformat": 4,
 "nbformat_minor": 2
}
