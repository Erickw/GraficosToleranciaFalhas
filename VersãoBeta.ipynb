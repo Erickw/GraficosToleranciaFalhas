{
 "cells": [
  {
   "cell_type": "code",
   "execution_count": 1,
   "metadata": {
    "collapsed": true
   },
   "outputs": [],
   "source": [
    "# IMPORTS\n",
    "\n",
    "import math\n",
    "import matplotlib.pyplot as plt\n",
    "import pandas as pd\n",
    "from scipy import linspace\n",
    "import scipy.integrate as integrate"
   ]
  },
  {
   "cell_type": "code",
   "execution_count": 23,
   "metadata": {
    "collapsed": true
   },
   "outputs": [],
   "source": [
    "# FUNÇÕES\n",
    "\n",
    "\n",
    "#Calculando a distribuição exponencial: #r(t) + f(t) = 1     r(t) = 1 - F(t)   f(t) = 1 - e^-lambd*t\n",
    "\n",
    "def DistExpo(lamb, t):\n",
    "    \n",
    "    SegundoTermo = 1 - math.e**(-lamb*t)\n",
    "    PrimeiroTermo = 1 - SegundoTermo()\n",
    "    DistExpoR = PrimeiroTermo + SegundoTermo    \n",
    "    \n",
    "    return DistExpoR\n",
    "\n",
    "#Calculando a distribuição Hypoexponencial - PDF: \n",
    "\n",
    "def DistHypoPDF(lamb1 , lamb2, t):\n",
    "    \n",
    "    Numerador = lamb1*lamb2\n",
    "    Denominador = lamb2 - lamb1\n",
    "    PrimeiroTermo = Numerador/Denominador\n",
    "    SegundoTermo = math.e**(-lamb1*t) - math.e**(-lamb2*t)\n",
    "    DistHypoPDFR = PrimeiroTermo*SegundoTermo\n",
    "    \n",
    "    return DistHypoPDFR\n",
    "    \n",
    "#Calculando a distribuição Hypoexponencial - CDF:    \n",
    "    \n",
    "def DistHypoCDF(lamb1 , lamb2):\n",
    "    \n",
    "    PrimeiroTermo = 1 - (lamb2/(lamb2-lamb1))*math.e**(-lamb1*t)\n",
    "    SegundoTermo = lamb1/(lamb2-lamb1)*math.e**(-lamb2*t)\n",
    "    DistHypoCDFR = PrimeiroTermo*SegundoTermo\n",
    "    \n",
    "    return DistHt\n",
    "\n",
    "#Calculando a distribuição Hypoexponencial - MTTF:\n",
    "\n",
    "def MTTF(lamb1, lamb2) :\n",
    "    \n",
    "    Numerador = lamb2 + lamb1\n",
    "    Denominador = lamb1 * lamb2\n",
    "    M = Numerador/Denominador\n",
    "    return M\n",
    "    \n",
    "    \n",
    "#Calculando a Redundância TMR:\n",
    "def tmr(lamb2, lamb1, lamb , t):\n",
    "    p1 = (lamb2 * lamb / ((lamb *lamb2) - (lamb *lamb1))) * (math.e ** (-(lamb *lamb1) * t))\n",
    "    p2 = (lamb1 * lamb / ((lamb *lamb2) - (lamb *lamb1))) * (math.e ** (-(lamb *lamb2) * t))\n",
    "    r = p1 - p2\n",
    "    \n",
    "    return r\n"
   ]
  },
  {
   "cell_type": "code",
   "execution_count": 28,
   "metadata": {},
   "outputs": [
    {
     "name": "stdout",
     "output_type": "stream",
     "text": [
      "0.6573780032174673\n"
     ]
    },
    {
     "data": {
      "image/png": "[encoded data removed]",
      "text/plain": [
       "<matplotlib.figure.Figure at 0x7f3c576ccf98>"
      ]
     },
     "metadata": {},
     "output_type": "display_data"
    }
   ],
   "source": [
    "x = tmr(3, 1 , 5 , 0.1)\n",
    "print (x)\n",
    "\n",
    "plt.plot(x , 1)\n",
    "plt.show()"
   ]
  },
  {
   "cell_type": "code",
   "execution_count": null,
   "metadata": {
    "collapsed": true
   },
   "outputs": [],
   "source": []
  }
 ],
 "metadata": {
  "kernelspec": {
   "display_name": "Python 3",
   "language": "python",
   "name": "python3"
  },
  "language_info": {
   "codemirror_mode": {
    "name": "ipython",
    "version": 3
   },
   "file_extension": ".py",
   "mimetype": "text/x-python",
   "name": "python",
   "nbconvert_exporter": "python",
   "pygments_lexer": "ipython3",
   "version": "3.6.1"
  }
 },
 "nbformat": 4,
 "nbformat_minor": 2
}
